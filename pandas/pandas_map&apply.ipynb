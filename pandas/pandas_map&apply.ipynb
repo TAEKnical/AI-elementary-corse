{
 "cells": [
  {
   "cell_type": "markdown",
   "metadata": {},
   "source": [
    "## map\n",
    "#### 함수와 sequence를 인자로 받아서 각 element마다 입력받은 함수를 적용하여 list로 반환한다.\n",
    "#### 인자가 될 함수는 주로 lambda 형태로 사용한다.\n",
    "#### map(function, sequence)"
   ]
  },
  {
   "cell_type": "code",
   "execution_count": 5,
   "metadata": {},
   "outputs": [
    {
     "data": {
      "text/plain": [
       "[1, 4, 9, 16, 25]"
      ]
     },
     "execution_count": 5,
     "metadata": {},
     "output_type": "execute_result"
    }
   ],
   "source": [
    "ex = [1,2,3,4,5]\n",
    "f = lambda x:x **2\n",
    "list(map(f,ex))"
   ]
  },
  {
   "cell_type": "code",
   "execution_count": 6,
   "metadata": {},
   "outputs": [],
   "source": [
    "f = lambda x , y: x + y"
   ]
  },
  {
   "cell_type": "code",
   "execution_count": 7,
   "metadata": {},
   "outputs": [
    {
     "data": {
      "text/plain": [
       "[2, 4, 6, 8, 10]"
      ]
     },
     "execution_count": 7,
     "metadata": {},
     "output_type": "execute_result"
    }
   ],
   "source": [
    "list(map(f, ex, ex))\n",
    "#함수의 argument가 두 개면, sequence도 두 개 넣는다."
   ]
  },
  {
   "cell_type": "code",
   "execution_count": 8,
   "metadata": {},
   "outputs": [
    {
     "data": {
      "text/plain": [
       "[2, 4, 6, 8, 10]"
      ]
     },
     "execution_count": 8,
     "metadata": {},
     "output_type": "execute_result"
    }
   ],
   "source": [
    "list(map(lambda x:x+x, ex))"
   ]
  },
  {
   "cell_type": "markdown",
   "metadata": {},
   "source": [
    "## map for series\n",
    "#### series type의 데이터에도 map 함수 사용 가능.\n",
    "#### function 대신 dict, sequence로 대체 가능."
   ]
  },
  {
   "cell_type": "code",
   "execution_count": 14,
   "metadata": {},
   "outputs": [
    {
     "data": {
      "text/plain": [
       "0    0\n",
       "1    1\n",
       "2    2\n",
       "3    3\n",
       "4    4\n",
       "5    5\n",
       "6    6\n",
       "7    7\n",
       "8    8\n",
       "9    9\n",
       "dtype: int32"
      ]
     },
     "execution_count": 14,
     "metadata": {},
     "output_type": "execute_result"
    }
   ],
   "source": [
    "from pandas import Series\n",
    "import numpy as np\n",
    "\n",
    "s1 = Series(np.arange(10))\n",
    "s1"
   ]
  },
  {
   "cell_type": "code",
   "execution_count": 15,
   "metadata": {},
   "outputs": [
    {
     "data": {
      "text/plain": [
       "0     0\n",
       "1     1\n",
       "2     4\n",
       "3     9\n",
       "4    16\n",
       "5    25\n",
       "6    36\n",
       "7    49\n",
       "8    64\n",
       "9    81\n",
       "dtype: int64"
      ]
     },
     "execution_count": 15,
     "metadata": {},
     "output_type": "execute_result"
    }
   ],
   "source": [
    "s1.map(lambda x: x**2)"
   ]
  },
  {
   "cell_type": "code",
   "execution_count": 16,
   "metadata": {},
   "outputs": [
    {
     "data": {
      "text/plain": [
       "0    NaN\n",
       "1      A\n",
       "2      B\n",
       "3      C\n",
       "4    NaN\n",
       "5    NaN\n",
       "6    NaN\n",
       "7    NaN\n",
       "8    NaN\n",
       "9    NaN\n",
       "dtype: object"
      ]
     },
     "execution_count": 16,
     "metadata": {},
     "output_type": "execute_result"
    }
   ],
   "source": [
    "z = {1: 'A', 2: 'B', 3: 'C'}\n",
    "s1.map(z)"
   ]
  },
  {
   "cell_type": "code",
   "execution_count": 17,
   "metadata": {},
   "outputs": [
    {
     "data": {
      "text/plain": [
       "0    10\n",
       "1    11\n",
       "2    12\n",
       "3    13\n",
       "4    14\n",
       "5    15\n",
       "6    16\n",
       "7    17\n",
       "8    18\n",
       "9    19\n",
       "dtype: int32"
      ]
     },
     "execution_count": 17,
     "metadata": {},
     "output_type": "execute_result"
    }
   ],
   "source": [
    "s2 = Series(np.arange(10,20))\n",
    "s1.map(s2)"
   ]
  },
  {
   "cell_type": "code",
   "execution_count": 19,
   "metadata": {},
   "outputs": [
    {
     "data": {
      "text/html": [
       "<div>\n",
       "<style scoped>\n",
       "    .dataframe tbody tr th:only-of-type {\n",
       "        vertical-align: middle;\n",
       "    }\n",
       "\n",
       "    .dataframe tbody tr th {\n",
       "        vertical-align: top;\n",
       "    }\n",
       "\n",
       "    .dataframe thead th {\n",
       "        text-align: right;\n",
       "    }\n",
       "</style>\n",
       "<table border=\"1\" class=\"dataframe\">\n",
       "  <thead>\n",
       "    <tr style=\"text-align: right;\">\n",
       "      <th></th>\n",
       "      <th>earn</th>\n",
       "      <th>height</th>\n",
       "      <th>sex</th>\n",
       "      <th>race</th>\n",
       "      <th>ed</th>\n",
       "      <th>age</th>\n",
       "    </tr>\n",
       "  </thead>\n",
       "  <tbody>\n",
       "    <tr>\n",
       "      <th>0</th>\n",
       "      <td>79571.299011</td>\n",
       "      <td>73.89</td>\n",
       "      <td>male</td>\n",
       "      <td>white</td>\n",
       "      <td>16</td>\n",
       "      <td>49</td>\n",
       "    </tr>\n",
       "    <tr>\n",
       "      <th>1</th>\n",
       "      <td>96396.988643</td>\n",
       "      <td>66.23</td>\n",
       "      <td>female</td>\n",
       "      <td>white</td>\n",
       "      <td>16</td>\n",
       "      <td>62</td>\n",
       "    </tr>\n",
       "    <tr>\n",
       "      <th>2</th>\n",
       "      <td>48710.666947</td>\n",
       "      <td>63.77</td>\n",
       "      <td>female</td>\n",
       "      <td>white</td>\n",
       "      <td>16</td>\n",
       "      <td>33</td>\n",
       "    </tr>\n",
       "    <tr>\n",
       "      <th>3</th>\n",
       "      <td>80478.096153</td>\n",
       "      <td>63.22</td>\n",
       "      <td>female</td>\n",
       "      <td>other</td>\n",
       "      <td>16</td>\n",
       "      <td>95</td>\n",
       "    </tr>\n",
       "    <tr>\n",
       "      <th>4</th>\n",
       "      <td>82089.345498</td>\n",
       "      <td>63.08</td>\n",
       "      <td>female</td>\n",
       "      <td>white</td>\n",
       "      <td>17</td>\n",
       "      <td>43</td>\n",
       "    </tr>\n",
       "  </tbody>\n",
       "</table>\n",
       "</div>"
      ],
      "text/plain": [
       "           earn  height     sex   race  ed  age\n",
       "0  79571.299011   73.89    male  white  16   49\n",
       "1  96396.988643   66.23  female  white  16   62\n",
       "2  48710.666947   63.77  female  white  16   33\n",
       "3  80478.096153   63.22  female  other  16   95\n",
       "4  82089.345498   63.08  female  white  17   43"
      ]
     },
     "execution_count": 19,
     "metadata": {},
     "output_type": "execute_result"
    }
   ],
   "source": [
    "import pandas as pd\n",
    "\n",
    "df = pd.read_csv('./data/wages.csv')\n",
    "df.head()"
   ]
  },
  {
   "cell_type": "markdown",
   "metadata": {},
   "source": [
    "#### 성별 str -> 성별 code"
   ]
  },
  {
   "cell_type": "code",
   "execution_count": 20,
   "metadata": {},
   "outputs": [
    {
     "data": {
      "text/plain": [
       "array(['male', 'female'], dtype=object)"
      ]
     },
     "execution_count": 20,
     "metadata": {},
     "output_type": "execute_result"
    }
   ],
   "source": [
    "df.sex.unique()"
   ]
  },
  {
   "cell_type": "code",
   "execution_count": 22,
   "metadata": {},
   "outputs": [
    {
     "data": {
      "text/html": [
       "<div>\n",
       "<style scoped>\n",
       "    .dataframe tbody tr th:only-of-type {\n",
       "        vertical-align: middle;\n",
       "    }\n",
       "\n",
       "    .dataframe tbody tr th {\n",
       "        vertical-align: top;\n",
       "    }\n",
       "\n",
       "    .dataframe thead th {\n",
       "        text-align: right;\n",
       "    }\n",
       "</style>\n",
       "<table border=\"1\" class=\"dataframe\">\n",
       "  <thead>\n",
       "    <tr style=\"text-align: right;\">\n",
       "      <th></th>\n",
       "      <th>earn</th>\n",
       "      <th>height</th>\n",
       "      <th>sex</th>\n",
       "      <th>race</th>\n",
       "      <th>ed</th>\n",
       "      <th>age</th>\n",
       "      <th>sex_code</th>\n",
       "    </tr>\n",
       "  </thead>\n",
       "  <tbody>\n",
       "    <tr>\n",
       "      <th>0</th>\n",
       "      <td>79571.299011</td>\n",
       "      <td>73.89</td>\n",
       "      <td>male</td>\n",
       "      <td>white</td>\n",
       "      <td>16</td>\n",
       "      <td>49</td>\n",
       "      <td>0</td>\n",
       "    </tr>\n",
       "    <tr>\n",
       "      <th>1</th>\n",
       "      <td>96396.988643</td>\n",
       "      <td>66.23</td>\n",
       "      <td>female</td>\n",
       "      <td>white</td>\n",
       "      <td>16</td>\n",
       "      <td>62</td>\n",
       "      <td>1</td>\n",
       "    </tr>\n",
       "    <tr>\n",
       "      <th>2</th>\n",
       "      <td>48710.666947</td>\n",
       "      <td>63.77</td>\n",
       "      <td>female</td>\n",
       "      <td>white</td>\n",
       "      <td>16</td>\n",
       "      <td>33</td>\n",
       "      <td>1</td>\n",
       "    </tr>\n",
       "    <tr>\n",
       "      <th>3</th>\n",
       "      <td>80478.096153</td>\n",
       "      <td>63.22</td>\n",
       "      <td>female</td>\n",
       "      <td>other</td>\n",
       "      <td>16</td>\n",
       "      <td>95</td>\n",
       "      <td>1</td>\n",
       "    </tr>\n",
       "    <tr>\n",
       "      <th>4</th>\n",
       "      <td>82089.345498</td>\n",
       "      <td>63.08</td>\n",
       "      <td>female</td>\n",
       "      <td>white</td>\n",
       "      <td>17</td>\n",
       "      <td>43</td>\n",
       "      <td>1</td>\n",
       "    </tr>\n",
       "  </tbody>\n",
       "</table>\n",
       "</div>"
      ],
      "text/plain": [
       "           earn  height     sex   race  ed  age  sex_code\n",
       "0  79571.299011   73.89    male  white  16   49         0\n",
       "1  96396.988643   66.23  female  white  16   62         1\n",
       "2  48710.666947   63.77  female  white  16   33         1\n",
       "3  80478.096153   63.22  female  other  16   95         1\n",
       "4  82089.345498   63.08  female  white  17   43         1"
      ]
     },
     "execution_count": 22,
     "metadata": {},
     "output_type": "execute_result"
    }
   ],
   "source": [
    "df['sex_code'] = df.sex.map({'male':0, 'female':1})\n",
    "df.head()"
   ]
  },
  {
   "cell_type": "code",
   "execution_count": 29,
   "metadata": {},
   "outputs": [
    {
     "data": {
      "text/html": [
       "<div>\n",
       "<style scoped>\n",
       "    .dataframe tbody tr th:only-of-type {\n",
       "        vertical-align: middle;\n",
       "    }\n",
       "\n",
       "    .dataframe tbody tr th {\n",
       "        vertical-align: top;\n",
       "    }\n",
       "\n",
       "    .dataframe thead th {\n",
       "        text-align: right;\n",
       "    }\n",
       "</style>\n",
       "<table border=\"1\" class=\"dataframe\">\n",
       "  <thead>\n",
       "    <tr style=\"text-align: right;\">\n",
       "      <th></th>\n",
       "      <th>earn</th>\n",
       "      <th>height</th>\n",
       "      <th>race</th>\n",
       "      <th>ed</th>\n",
       "      <th>age</th>\n",
       "      <th>sex_code</th>\n",
       "    </tr>\n",
       "  </thead>\n",
       "  <tbody>\n",
       "    <tr>\n",
       "      <th>0</th>\n",
       "      <td>79571.299011</td>\n",
       "      <td>73.89</td>\n",
       "      <td>white</td>\n",
       "      <td>16</td>\n",
       "      <td>49</td>\n",
       "      <td>0</td>\n",
       "    </tr>\n",
       "    <tr>\n",
       "      <th>1</th>\n",
       "      <td>96396.988643</td>\n",
       "      <td>66.23</td>\n",
       "      <td>white</td>\n",
       "      <td>16</td>\n",
       "      <td>62</td>\n",
       "      <td>1</td>\n",
       "    </tr>\n",
       "    <tr>\n",
       "      <th>2</th>\n",
       "      <td>48710.666947</td>\n",
       "      <td>63.77</td>\n",
       "      <td>white</td>\n",
       "      <td>16</td>\n",
       "      <td>33</td>\n",
       "      <td>1</td>\n",
       "    </tr>\n",
       "    <tr>\n",
       "      <th>3</th>\n",
       "      <td>80478.096153</td>\n",
       "      <td>63.22</td>\n",
       "      <td>other</td>\n",
       "      <td>16</td>\n",
       "      <td>95</td>\n",
       "      <td>1</td>\n",
       "    </tr>\n",
       "    <tr>\n",
       "      <th>4</th>\n",
       "      <td>82089.345498</td>\n",
       "      <td>63.08</td>\n",
       "      <td>white</td>\n",
       "      <td>17</td>\n",
       "      <td>43</td>\n",
       "      <td>1</td>\n",
       "    </tr>\n",
       "  </tbody>\n",
       "</table>\n",
       "</div>"
      ],
      "text/plain": [
       "           earn  height   race  ed  age  sex_code\n",
       "0  79571.299011   73.89  white  16   49         0\n",
       "1  96396.988643   66.23  white  16   62         1\n",
       "2  48710.666947   63.77  white  16   33         1\n",
       "3  80478.096153   63.22  other  16   95         1\n",
       "4  82089.345498   63.08  white  17   43         1"
      ]
     },
     "execution_count": 29,
     "metadata": {},
     "output_type": "execute_result"
    }
   ],
   "source": [
    "df.drop('sex',axis=1).head()\n",
    "#drop 대신 del df['sex'] 가능."
   ]
  },
  {
   "cell_type": "markdown",
   "metadata": {},
   "source": [
    "## replace function"
   ]
  },
  {
   "cell_type": "code",
   "execution_count": 26,
   "metadata": {},
   "outputs": [
    {
     "data": {
      "text/plain": [
       "0    0\n",
       "1    1\n",
       "2    1\n",
       "3    1\n",
       "4    1\n",
       "Name: sex, dtype: int64"
      ]
     },
     "execution_count": 26,
     "metadata": {},
     "output_type": "execute_result"
    }
   ],
   "source": [
    "df.sex.replace({'male' : 0, 'female' : 1}).head() #map 없이 적용 가능."
   ]
  },
  {
   "cell_type": "code",
   "execution_count": 28,
   "metadata": {},
   "outputs": [
    {
     "data": {
      "text/html": [
       "<div>\n",
       "<style scoped>\n",
       "    .dataframe tbody tr th:only-of-type {\n",
       "        vertical-align: middle;\n",
       "    }\n",
       "\n",
       "    .dataframe tbody tr th {\n",
       "        vertical-align: top;\n",
       "    }\n",
       "\n",
       "    .dataframe thead th {\n",
       "        text-align: right;\n",
       "    }\n",
       "</style>\n",
       "<table border=\"1\" class=\"dataframe\">\n",
       "  <thead>\n",
       "    <tr style=\"text-align: right;\">\n",
       "      <th></th>\n",
       "      <th>earn</th>\n",
       "      <th>height</th>\n",
       "      <th>sex</th>\n",
       "      <th>race</th>\n",
       "      <th>ed</th>\n",
       "      <th>age</th>\n",
       "      <th>sex_code</th>\n",
       "    </tr>\n",
       "  </thead>\n",
       "  <tbody>\n",
       "    <tr>\n",
       "      <th>0</th>\n",
       "      <td>79571.299011</td>\n",
       "      <td>73.89</td>\n",
       "      <td>0</td>\n",
       "      <td>white</td>\n",
       "      <td>16</td>\n",
       "      <td>49</td>\n",
       "      <td>0</td>\n",
       "    </tr>\n",
       "    <tr>\n",
       "      <th>1</th>\n",
       "      <td>96396.988643</td>\n",
       "      <td>66.23</td>\n",
       "      <td>1</td>\n",
       "      <td>white</td>\n",
       "      <td>16</td>\n",
       "      <td>62</td>\n",
       "      <td>1</td>\n",
       "    </tr>\n",
       "    <tr>\n",
       "      <th>2</th>\n",
       "      <td>48710.666947</td>\n",
       "      <td>63.77</td>\n",
       "      <td>1</td>\n",
       "      <td>white</td>\n",
       "      <td>16</td>\n",
       "      <td>33</td>\n",
       "      <td>1</td>\n",
       "    </tr>\n",
       "    <tr>\n",
       "      <th>3</th>\n",
       "      <td>80478.096153</td>\n",
       "      <td>63.22</td>\n",
       "      <td>1</td>\n",
       "      <td>other</td>\n",
       "      <td>16</td>\n",
       "      <td>95</td>\n",
       "      <td>1</td>\n",
       "    </tr>\n",
       "    <tr>\n",
       "      <th>4</th>\n",
       "      <td>82089.345498</td>\n",
       "      <td>63.08</td>\n",
       "      <td>1</td>\n",
       "      <td>white</td>\n",
       "      <td>17</td>\n",
       "      <td>43</td>\n",
       "      <td>1</td>\n",
       "    </tr>\n",
       "  </tbody>\n",
       "</table>\n",
       "</div>"
      ],
      "text/plain": [
       "           earn  height  sex   race  ed  age  sex_code\n",
       "0  79571.299011   73.89    0  white  16   49         0\n",
       "1  96396.988643   66.23    1  white  16   62         1\n",
       "2  48710.666947   63.77    1  white  16   33         1\n",
       "3  80478.096153   63.22    1  other  16   95         1\n",
       "4  82089.345498   63.08    1  white  17   43         1"
      ]
     },
     "execution_count": 28,
     "metadata": {},
     "output_type": "execute_result"
    }
   ],
   "source": [
    "df.sex.replace(['male','female'], [0,1], inplace=True)\n",
    "df.head()"
   ]
  },
  {
   "cell_type": "markdown",
   "metadata": {},
   "source": [
    "## apply"
   ]
  },
  {
   "cell_type": "markdown",
   "metadata": {},
   "source": [
    "#### map과 달리 하나의 series 전체에 대하여 해당 함수를 적용시킨다.\n",
    "#### 입력 값을 series 데이터로 입력받아 handling 할 수 있다.\n",
    "#### 전체 자료의 통계값을 추출할 때 유용"
   ]
  },
  {
   "cell_type": "code",
   "execution_count": 36,
   "metadata": {},
   "outputs": [
    {
     "data": {
      "text/html": [
       "<div>\n",
       "<style scoped>\n",
       "    .dataframe tbody tr th:only-of-type {\n",
       "        vertical-align: middle;\n",
       "    }\n",
       "\n",
       "    .dataframe tbody tr th {\n",
       "        vertical-align: top;\n",
       "    }\n",
       "\n",
       "    .dataframe thead th {\n",
       "        text-align: right;\n",
       "    }\n",
       "</style>\n",
       "<table border=\"1\" class=\"dataframe\">\n",
       "  <thead>\n",
       "    <tr style=\"text-align: right;\">\n",
       "      <th></th>\n",
       "      <th>earn</th>\n",
       "      <th>height</th>\n",
       "      <th>sex</th>\n",
       "      <th>race</th>\n",
       "      <th>ed</th>\n",
       "      <th>age</th>\n",
       "    </tr>\n",
       "  </thead>\n",
       "  <tbody>\n",
       "    <tr>\n",
       "      <th>0</th>\n",
       "      <td>79571.299011</td>\n",
       "      <td>73.89</td>\n",
       "      <td>male</td>\n",
       "      <td>white</td>\n",
       "      <td>16</td>\n",
       "      <td>49</td>\n",
       "    </tr>\n",
       "    <tr>\n",
       "      <th>1</th>\n",
       "      <td>96396.988643</td>\n",
       "      <td>66.23</td>\n",
       "      <td>female</td>\n",
       "      <td>white</td>\n",
       "      <td>16</td>\n",
       "      <td>62</td>\n",
       "    </tr>\n",
       "    <tr>\n",
       "      <th>2</th>\n",
       "      <td>48710.666947</td>\n",
       "      <td>63.77</td>\n",
       "      <td>female</td>\n",
       "      <td>white</td>\n",
       "      <td>16</td>\n",
       "      <td>33</td>\n",
       "    </tr>\n",
       "    <tr>\n",
       "      <th>3</th>\n",
       "      <td>80478.096153</td>\n",
       "      <td>63.22</td>\n",
       "      <td>female</td>\n",
       "      <td>other</td>\n",
       "      <td>16</td>\n",
       "      <td>95</td>\n",
       "    </tr>\n",
       "    <tr>\n",
       "      <th>4</th>\n",
       "      <td>82089.345498</td>\n",
       "      <td>63.08</td>\n",
       "      <td>female</td>\n",
       "      <td>white</td>\n",
       "      <td>17</td>\n",
       "      <td>43</td>\n",
       "    </tr>\n",
       "  </tbody>\n",
       "</table>\n",
       "</div>"
      ],
      "text/plain": [
       "           earn  height     sex   race  ed  age\n",
       "0  79571.299011   73.89    male  white  16   49\n",
       "1  96396.988643   66.23  female  white  16   62\n",
       "2  48710.666947   63.77  female  white  16   33\n",
       "3  80478.096153   63.22  female  other  16   95\n",
       "4  82089.345498   63.08  female  white  17   43"
      ]
     },
     "execution_count": 36,
     "metadata": {},
     "output_type": "execute_result"
    }
   ],
   "source": [
    "df = pd.read_csv('./data/wages.csv')\n",
    "df.head()"
   ]
  },
  {
   "cell_type": "code",
   "execution_count": 39,
   "metadata": {},
   "outputs": [
    {
     "data": {
      "text/html": [
       "<div>\n",
       "<style scoped>\n",
       "    .dataframe tbody tr th:only-of-type {\n",
       "        vertical-align: middle;\n",
       "    }\n",
       "\n",
       "    .dataframe tbody tr th {\n",
       "        vertical-align: top;\n",
       "    }\n",
       "\n",
       "    .dataframe thead th {\n",
       "        text-align: right;\n",
       "    }\n",
       "</style>\n",
       "<table border=\"1\" class=\"dataframe\">\n",
       "  <thead>\n",
       "    <tr style=\"text-align: right;\">\n",
       "      <th></th>\n",
       "      <th>earn</th>\n",
       "      <th>height</th>\n",
       "      <th>age</th>\n",
       "    </tr>\n",
       "  </thead>\n",
       "  <tbody>\n",
       "    <tr>\n",
       "      <th>0</th>\n",
       "      <td>79571.299011</td>\n",
       "      <td>73.89</td>\n",
       "      <td>49</td>\n",
       "    </tr>\n",
       "    <tr>\n",
       "      <th>1</th>\n",
       "      <td>96396.988643</td>\n",
       "      <td>66.23</td>\n",
       "      <td>62</td>\n",
       "    </tr>\n",
       "    <tr>\n",
       "      <th>2</th>\n",
       "      <td>48710.666947</td>\n",
       "      <td>63.77</td>\n",
       "      <td>33</td>\n",
       "    </tr>\n",
       "    <tr>\n",
       "      <th>3</th>\n",
       "      <td>80478.096153</td>\n",
       "      <td>63.22</td>\n",
       "      <td>95</td>\n",
       "    </tr>\n",
       "    <tr>\n",
       "      <th>4</th>\n",
       "      <td>82089.345498</td>\n",
       "      <td>63.08</td>\n",
       "      <td>43</td>\n",
       "    </tr>\n",
       "  </tbody>\n",
       "</table>\n",
       "</div>"
      ],
      "text/plain": [
       "           earn  height  age\n",
       "0  79571.299011   73.89   49\n",
       "1  96396.988643   66.23   62\n",
       "2  48710.666947   63.77   33\n",
       "3  80478.096153   63.22   95\n",
       "4  82089.345498   63.08   43"
      ]
     },
     "execution_count": 39,
     "metadata": {},
     "output_type": "execute_result"
    }
   ],
   "source": [
    "df_info = df[['earn','height','age']]\n",
    "df_info.head()"
   ]
  },
  {
   "cell_type": "code",
   "execution_count": 40,
   "metadata": {},
   "outputs": [
    {
     "data": {
      "text/plain": [
       "earn      318047.708444\n",
       "height        19.870000\n",
       "age           73.000000\n",
       "dtype: float64"
      ]
     },
     "execution_count": 40,
     "metadata": {},
     "output_type": "execute_result"
    }
   ],
   "source": [
    "f = lambda x : x.max() - x.min()\n",
    "df_info.apply(f)"
   ]
  },
  {
   "cell_type": "code",
   "execution_count": 41,
   "metadata": {},
   "outputs": [
    {
     "data": {
      "text/plain": [
       "earn      4.474344e+07\n",
       "height    9.183125e+04\n",
       "age       6.250800e+04\n",
       "dtype: float64"
      ]
     },
     "execution_count": 41,
     "metadata": {},
     "output_type": "execute_result"
    }
   ],
   "source": [
    "df_info.sum()\n",
    "# df_info.apply(sum) 같은 기능."
   ]
  },
  {
   "cell_type": "code",
   "execution_count": 45,
   "metadata": {},
   "outputs": [
    {
     "data": {
      "text/plain": [
       "earn      4.474344e+07\n",
       "height    9.183125e+04\n",
       "age       6.250800e+04\n",
       "dtype: float64"
      ]
     },
     "execution_count": 45,
     "metadata": {},
     "output_type": "execute_result"
    }
   ],
   "source": [
    "df_info.apply(sum)"
   ]
  },
  {
   "cell_type": "markdown",
   "metadata": {},
   "source": [
    "#### scalar 값 외에 series 값의 반환도 가능하다."
   ]
  },
  {
   "cell_type": "code",
   "execution_count": 47,
   "metadata": {},
   "outputs": [
    {
     "data": {
      "text/html": [
       "<div>\n",
       "<style scoped>\n",
       "    .dataframe tbody tr th:only-of-type {\n",
       "        vertical-align: middle;\n",
       "    }\n",
       "\n",
       "    .dataframe tbody tr th {\n",
       "        vertical-align: top;\n",
       "    }\n",
       "\n",
       "    .dataframe thead th {\n",
       "        text-align: right;\n",
       "    }\n",
       "</style>\n",
       "<table border=\"1\" class=\"dataframe\">\n",
       "  <thead>\n",
       "    <tr style=\"text-align: right;\">\n",
       "      <th></th>\n",
       "      <th>earn</th>\n",
       "      <th>height</th>\n",
       "      <th>age</th>\n",
       "    </tr>\n",
       "  </thead>\n",
       "  <tbody>\n",
       "    <tr>\n",
       "      <th>min</th>\n",
       "      <td>-98.580489</td>\n",
       "      <td>57.34000</td>\n",
       "      <td>22.000000</td>\n",
       "    </tr>\n",
       "    <tr>\n",
       "      <th>max</th>\n",
       "      <td>317949.127955</td>\n",
       "      <td>77.21000</td>\n",
       "      <td>95.000000</td>\n",
       "    </tr>\n",
       "    <tr>\n",
       "      <th>mean</th>\n",
       "      <td>32446.292622</td>\n",
       "      <td>66.59264</td>\n",
       "      <td>45.328499</td>\n",
       "    </tr>\n",
       "  </tbody>\n",
       "</table>\n",
       "</div>"
      ],
      "text/plain": [
       "               earn    height        age\n",
       "min      -98.580489  57.34000  22.000000\n",
       "max   317949.127955  77.21000  95.000000\n",
       "mean   32446.292622  66.59264  45.328499"
      ]
     },
     "execution_count": 47,
     "metadata": {},
     "output_type": "execute_result"
    }
   ],
   "source": [
    "def f(x):\n",
    "    return Series([x.min(), x.max(), x.mean()], index = ['min','max','mean'])\n",
    "df_info.apply(f)"
   ]
  },
  {
   "cell_type": "code",
   "execution_count": 48,
   "metadata": {},
   "outputs": [
    {
     "data": {
      "text/plain": [
       "0        79694.189011\n",
       "1        96525.218643\n",
       "2        48807.436947\n",
       "3        80636.316153\n",
       "4        82195.425498\n",
       "5        15407.882901\n",
       "6        47218.711821\n",
       "7        51083.344282\n",
       "8         3309.889556\n",
       "9        43099.037884\n",
       "10       10467.838843\n",
       "11        1119.457155\n",
       "12       47703.929864\n",
       "13       19118.622299\n",
       "14       20183.856639\n",
       "15        1083.892346\n",
       "16       36077.181123\n",
       "17       27060.613964\n",
       "18       64703.223972\n",
       "19       70111.713070\n",
       "20        1092.298306\n",
       "21       12255.022115\n",
       "22       84335.157919\n",
       "23        9066.644935\n",
       "24       23366.363278\n",
       "25        8842.809185\n",
       "26       64704.549805\n",
       "27       54200.504945\n",
       "28       16997.860044\n",
       "29          -2.250279\n",
       "            ...      \n",
       "1349     64736.641872\n",
       "1350     16047.423155\n",
       "1351     25468.928379\n",
       "1352     18601.227184\n",
       "1353     26547.776457\n",
       "1354     28745.820098\n",
       "1355     20158.062736\n",
       "1356      6449.932127\n",
       "1357     95537.526798\n",
       "1358     68547.843058\n",
       "1359     50404.021292\n",
       "1360     80629.389376\n",
       "1361     44021.074343\n",
       "1362     47842.290935\n",
       "1363     19280.867431\n",
       "1364      1099.275131\n",
       "1365     32894.421176\n",
       "1366     24989.493294\n",
       "1367     40863.105077\n",
       "1368      4315.412685\n",
       "1369      4852.676508\n",
       "1370    176019.353598\n",
       "1371     87617.788778\n",
       "1372     92332.216106\n",
       "1373     17015.637851\n",
       "1374     30278.060363\n",
       "1375     25000.829514\n",
       "1376     13811.311312\n",
       "1377     95551.664410\n",
       "1378      9674.681857\n",
       "Length: 1379, dtype: float64"
      ]
     },
     "execution_count": 48,
     "metadata": {},
     "output_type": "execute_result"
    }
   ],
   "source": [
    "df_info.apply(sum, axis=1)"
   ]
  },
  {
   "cell_type": "markdown",
   "metadata": {},
   "source": [
    "## applymap"
   ]
  },
  {
   "cell_type": "markdown",
   "metadata": {},
   "source": [
    "#### series 단위가 아닌 element 단위로 함수를 적용함\n",
    "#### series 단위에 apply를 적용시킬 때와 같은 효과"
   ]
  },
  {
   "cell_type": "code",
   "execution_count": 49,
   "metadata": {},
   "outputs": [
    {
     "data": {
      "text/html": [
       "<div>\n",
       "<style scoped>\n",
       "    .dataframe tbody tr th:only-of-type {\n",
       "        vertical-align: middle;\n",
       "    }\n",
       "\n",
       "    .dataframe tbody tr th {\n",
       "        vertical-align: top;\n",
       "    }\n",
       "\n",
       "    .dataframe thead th {\n",
       "        text-align: right;\n",
       "    }\n",
       "</style>\n",
       "<table border=\"1\" class=\"dataframe\">\n",
       "  <thead>\n",
       "    <tr style=\"text-align: right;\">\n",
       "      <th></th>\n",
       "      <th>earn</th>\n",
       "      <th>height</th>\n",
       "      <th>age</th>\n",
       "    </tr>\n",
       "  </thead>\n",
       "  <tbody>\n",
       "    <tr>\n",
       "      <th>0</th>\n",
       "      <td>-79571.299011</td>\n",
       "      <td>-73.89</td>\n",
       "      <td>-49</td>\n",
       "    </tr>\n",
       "    <tr>\n",
       "      <th>1</th>\n",
       "      <td>-96396.988643</td>\n",
       "      <td>-66.23</td>\n",
       "      <td>-62</td>\n",
       "    </tr>\n",
       "    <tr>\n",
       "      <th>2</th>\n",
       "      <td>-48710.666947</td>\n",
       "      <td>-63.77</td>\n",
       "      <td>-33</td>\n",
       "    </tr>\n",
       "    <tr>\n",
       "      <th>3</th>\n",
       "      <td>-80478.096153</td>\n",
       "      <td>-63.22</td>\n",
       "      <td>-95</td>\n",
       "    </tr>\n",
       "    <tr>\n",
       "      <th>4</th>\n",
       "      <td>-82089.345498</td>\n",
       "      <td>-63.08</td>\n",
       "      <td>-43</td>\n",
       "    </tr>\n",
       "  </tbody>\n",
       "</table>\n",
       "</div>"
      ],
      "text/plain": [
       "           earn  height  age\n",
       "0 -79571.299011  -73.89  -49\n",
       "1 -96396.988643  -66.23  -62\n",
       "2 -48710.666947  -63.77  -33\n",
       "3 -80478.096153  -63.22  -95\n",
       "4 -82089.345498  -63.08  -43"
      ]
     },
     "execution_count": 49,
     "metadata": {},
     "output_type": "execute_result"
    }
   ],
   "source": [
    "f = lambda x : -x\n",
    "df_info.applymap(f).head(5)"
   ]
  },
  {
   "cell_type": "code",
   "execution_count": 50,
   "metadata": {},
   "outputs": [
    {
     "data": {
      "text/plain": [
       "0   -79571.299011\n",
       "1   -96396.988643\n",
       "2   -48710.666947\n",
       "3   -80478.096153\n",
       "4   -82089.345498\n",
       "Name: earn, dtype: float64"
      ]
     },
     "execution_count": 50,
     "metadata": {},
     "output_type": "execute_result"
    }
   ],
   "source": [
    "f = lambda x : -x\n",
    "df_info['earn'].apply(f).head()"
   ]
  },
  {
   "cell_type": "code",
   "execution_count": null,
   "metadata": {},
   "outputs": [],
   "source": []
  }
 ],
 "metadata": {
  "kernelspec": {
   "display_name": "Python 3",
   "language": "python",
   "name": "python3"
  },
  "language_info": {
   "codemirror_mode": {
    "name": "ipython",
    "version": 3
   },
   "file_extension": ".py",
   "mimetype": "text/x-python",
   "name": "python",
   "nbconvert_exporter": "python",
   "pygments_lexer": "ipython3",
   "version": "3.7.2"
  }
 },
 "nbformat": 4,
 "nbformat_minor": 2
}
