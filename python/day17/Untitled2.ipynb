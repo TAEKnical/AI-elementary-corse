{
 "cells": [
  {
   "cell_type": "code",
   "execution_count": 1,
   "metadata": {},
   "outputs": [
    {
     "name": "stdout",
     "output_type": "stream",
     "text": [
      "Collecting folium\n",
      "  Downloading https://files.pythonhosted.org/packages/43/77/0287320dc4fd86ae8847bab6c34b5ec370e836a79c7b0c16680a3d9fd770/folium-0.8.3-py2.py3-none-any.whl (87kB)\n",
      "Requirement already satisfied: numpy in c:\\users\\hogoo\\appdata\\local\\conda\\conda\\envs\\py37\\lib\\site-packages (from folium) (1.16.2)\n",
      "Collecting branca>=0.3.0 (from folium)\n",
      "  Downloading https://files.pythonhosted.org/packages/63/36/1c93318e9653f4e414a2e0c3b98fc898b4970e939afeedeee6075dd3b703/branca-0.3.1-py3-none-any.whl\n",
      "Requirement already satisfied: six in c:\\users\\hogoo\\appdata\\local\\conda\\conda\\envs\\py37\\lib\\site-packages (from folium) (1.12.0)\n",
      "Collecting requests (from folium)\n",
      "  Downloading https://files.pythonhosted.org/packages/7d/e3/20f3d364d6c8e5d2353c72a67778eb189176f08e873c9900e10c0287b84b/requests-2.21.0-py2.py3-none-any.whl (57kB)\n",
      "Requirement already satisfied: jinja2 in c:\\users\\hogoo\\appdata\\local\\conda\\conda\\envs\\py37\\lib\\site-packages (from folium) (2.10)\n",
      "Collecting idna<2.9,>=2.5 (from requests->folium)\n",
      "  Downloading https://files.pythonhosted.org/packages/14/2c/cd551d81dbe15200be1cf41cd03869a46fe7226e7450af7a6545bfc474c9/idna-2.8-py2.py3-none-any.whl (58kB)\n",
      "Requirement already satisfied: certifi>=2017.4.17 in c:\\users\\hogoo\\appdata\\local\\conda\\conda\\envs\\py37\\lib\\site-packages (from requests->folium) (2018.11.29)\n",
      "Collecting urllib3<1.25,>=1.21.1 (from requests->folium)\n",
      "  Downloading https://files.pythonhosted.org/packages/62/00/ee1d7de624db8ba7090d1226aebefab96a2c71cd5cfa7629d6ad3f61b79e/urllib3-1.24.1-py2.py3-none-any.whl (118kB)\n",
      "Collecting chardet<3.1.0,>=3.0.2 (from requests->folium)\n",
      "  Using cached https://files.pythonhosted.org/packages/bc/a9/01ffebfb562e4274b6487b4bb1ddec7ca55ec7510b22e4c51f14098443b8/chardet-3.0.4-py2.py3-none-any.whl\n",
      "Requirement already satisfied: MarkupSafe>=0.23 in c:\\users\\hogoo\\appdata\\local\\conda\\conda\\envs\\py37\\lib\\site-packages (from jinja2->folium) (1.1.1)\n",
      "Installing collected packages: branca, idna, urllib3, chardet, requests, folium\n",
      "Successfully installed branca-0.3.1 chardet-3.0.4 folium-0.8.3 idna-2.8 requests-2.21.0 urllib3-1.24.1\n"
     ]
    }
   ],
   "source": [
    "!pip install folium #지도에 표시하는 라이브러리"
   ]
  },
  {
   "cell_type": "code",
   "execution_count": null,
   "metadata": {},
   "outputs": [],
   "source": []
  }
 ],
 "metadata": {
  "kernelspec": {
   "display_name": "Python 3",
   "language": "python",
   "name": "python3"
  },
  "language_info": {
   "codemirror_mode": {
    "name": "ipython",
    "version": 3
   },
   "file_extension": ".py",
   "mimetype": "text/x-python",
   "name": "python",
   "nbconvert_exporter": "python",
   "pygments_lexer": "ipython3",
   "version": "3.7.2"
  }
 },
 "nbformat": 4,
 "nbformat_minor": 2
}
